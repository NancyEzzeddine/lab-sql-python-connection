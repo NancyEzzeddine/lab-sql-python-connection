{
 "cells": [
  {
   "cell_type": "code",
   "execution_count": 3,
   "id": "23e8c196-f0a4-453f-89a5-f896b466db05",
   "metadata": {},
   "outputs": [
    {
     "name": "stdout",
     "output_type": "stream",
     "text": [
      "Requirement already satisfied: mysql-connector-python in /opt/anaconda3/lib/python3.12/site-packages (9.0.0)\n",
      "Note: you may need to restart the kernel to use updated packages.\n"
     ]
    }
   ],
   "source": [
    "pip install mysql-connector-python"
   ]
  },
  {
   "cell_type": "code",
   "execution_count": 5,
   "id": "1714c89b-bfd8-40c5-84e2-56b68eb6638c",
   "metadata": {},
   "outputs": [],
   "source": [
    "import mysql.connector\n",
    "from mysql.connector import Error"
   ]
  },
  {
   "cell_type": "code",
   "execution_count": 8,
   "id": "8016c038-8033-4d66-9ae0-1fe2875a753e",
   "metadata": {},
   "outputs": [
    {
     "name": "stdout",
     "output_type": "stream",
     "text": [
      "Successfully connected to the Sakila database\n"
     ]
    }
   ],
   "source": [
    "def create_connection():\n",
    "    try:\n",
    "        connection = mysql.connector.connect(\n",
    "            host=\"localhost\",         \n",
    "            user=\"root\",    \n",
    "            password=\"nm_064572\", \n",
    "            database=\"sakila\"        \n",
    "        )\n",
    "        if connection.is_connected():\n",
    "            print(\"Successfully connected to the Sakila database\")\n",
    "            return connection\n",
    "    except Error as e:\n",
    "        print(f\"Error: '{e}' occurred\")\n",
    "        return None\n",
    "\n",
    "# Call the function\n",
    "connection = create_connection()\n"
   ]
  },
  {
   "cell_type": "code",
   "execution_count": 22,
   "id": "896053cb-83df-4d1e-8449-cb5bf1c77b54",
   "metadata": {},
   "outputs": [],
   "source": [
    "import pandas as pd\n",
    "from sqlalchemy import create_engine\n",
    "\n",
    "def rentals_month(engine, month, year):\n",
    "    \"\"\"\n",
    "    Retrieves rental data for a given month and year from the Sakila database.\n",
    "    \n",
    "    Parameters:\n",
    "    engine (object): SQLAlchemy engine object representing the connection to the Sakila database.\n",
    "    month (int): The month for which rental data is to be retrieved.\n",
    "    year (int): The year for which rental data is to be retrieved.\n",
    "    \n",
    "    Returns:\n",
    "    DataFrame: A Pandas DataFrame containing the rental data for the specified month and year.\n",
    "    \"\"\"\n",
    "    # SQL query to retrieve rental data for the given month and year\n",
    "    query = f\"\"\"\n",
    "    SELECT rental_id, rental_date, inventory_id, customer_id, return_date, staff_id\n",
    "    FROM rental\n",
    "    WHERE MONTH(rental_date) = {month} AND YEAR(rental_date) = {year};\n",
    "    \"\"\"\n",
    "    \n",
    "    # Execute the query and return the result as a Pandas DataFrame\n",
    "    try:\n",
    "        df = pd.read_sql_query(query, engine)\n",
    "        return df\n",
    "    except Exception as e:\n",
    "        print(f\"Error: {e}\")\n",
    "        return None"
   ]
  },
  {
   "cell_type": "code",
   "execution_count": null,
   "id": "29cb04de-93d6-4e63-bc2b-3a9fd8327f2e",
   "metadata": {},
   "outputs": [],
   "source": []
  }
 ],
 "metadata": {
  "kernelspec": {
   "display_name": "Python 3 (ipykernel)",
   "language": "python",
   "name": "python3"
  },
  "language_info": {
   "codemirror_mode": {
    "name": "ipython",
    "version": 3
   },
   "file_extension": ".py",
   "mimetype": "text/x-python",
   "name": "python",
   "nbconvert_exporter": "python",
   "pygments_lexer": "ipython3",
   "version": "3.12.2"
  }
 },
 "nbformat": 4,
 "nbformat_minor": 5
}
